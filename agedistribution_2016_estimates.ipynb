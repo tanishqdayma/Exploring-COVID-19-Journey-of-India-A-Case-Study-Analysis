{
 "cells": [
  {
   "cell_type": "code",
   "execution_count": null,
   "metadata": {},
   "outputs": [],
   "source": [
    "import pandas as pd\n",
    "import warnings\n",
    "warnings.filterwarnings(\"ignore\")\n",
    "\n",
    "#Task1\n",
    "#Loading the data\n",
    "def read_data_from_csv():\n",
    "    #Read the dataset\n",
    "    df = pd.read_csv('./Uncleaned_dataset/agedistribution_2016_estimates.csv')\n",
    "    return df\n",
    "\n",
    "\n",
    "#Task 2: Renaming the Columns\n",
    "def rename_columns():\n",
    "    data=read_data_from_csv()\n",
    "    \"\"\"(Rename the column names as 'Age': 'Age_group',\n",
    "        'M': 'Male',\n",
    "        'F': 'Female',\n",
    "        'Tot': 'Total')\"\"\"\n",
    "    \n",
    "    data = data.rename(columns={'Age':'Age_group', 'M':'Male', 'F':'Female', 'Tot':'Total'})\n",
    "\n",
    "    # export cleaned Dataset to newcsv file named \"agedistribution_2016_estimates_cleaned.csv\"\n",
    "    data.to_csv('agedistribution_2016_estimates_cleaned.csv')\n",
    "    return data\n",
    "\n",
    "#Do not Delete the Following function\n",
    "def task_runner():\n",
    "    rename_columns()\n",
    "\n",
    "task_runner()"
   ]
  }
 ],
 "metadata": {
  "anaconda-cloud": {},
  "kernelspec": {
   "display_name": "Python 3 (ipykernel)",
   "language": "python",
   "name": "python3"
  },
  "language_info": {
   "codemirror_mode": {
    "name": "ipython",
    "version": 3
   },
   "file_extension": ".py",
   "mimetype": "text/x-python",
   "name": "python",
   "nbconvert_exporter": "python",
   "pygments_lexer": "ipython3",
   "version": "3.9.13"
  }
 },
 "nbformat": 4,
 "nbformat_minor": 4
}
