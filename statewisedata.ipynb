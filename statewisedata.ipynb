{
 "cells": [
  {
   "cell_type": "code",
   "execution_count": 7,
   "metadata": {},
   "outputs": [],
   "source": [
    "import pandas as pd\n",
    "import warnings\n",
    "warnings.filterwarnings(\"ignore\")\n",
    "\n",
    "#Task1\n",
    "#Loading the data\n",
    "def read_data_from_csv():\n",
    "    #df =read the 'statewisedata.csv' file\n",
    "    df = pd.read_csv('./Uncleaned_dataset/statewisedata.csv')\n",
    "    return df\n",
    "\n",
    "\n",
    "def data_cleaning():\n",
    "    # DO NOT REMOVE FOLLOWING LINE\n",
    "    # call remove_unwanted_columns() function to get dataframe\n",
    "    data = read_data_from_csv()\n",
    "\n",
    "    # Remove Unwanted columns(Delta_Confirmed,Delta_Recovered,Delta_Deaths)\n",
    "    data = data.drop(['Delta_Confirmed','Delta_Recovered','Delta_Deaths'], axis=1)\n",
    "\n",
    "    # only these columns are allowed in the dataset\n",
    "    #(State_UT,Confirmed,Recovered,Deaths,Active,Last_updad_time,State_code)\n",
    "\n",
    "    # export cleaned Dataset to newcsv file named \"statewisedata_cleaned.csv\"\n",
    "    data.to_csv('statewisedata_cleaned.csv')\n",
    "    \n",
    "    return data\n",
    "\n",
    "#Do not Delete the Following function\n",
    "def task_runner():\n",
    "    data_cleaning()\n",
    "\n",
    "task_runner()"
   ]
  }
 ],
 "metadata": {
  "anaconda-cloud": {},
  "kernelspec": {
   "display_name": "Python 3 (ipykernel)",
   "language": "python",
   "name": "python3"
  },
  "language_info": {
   "codemirror_mode": {
    "name": "ipython",
    "version": 3
   },
   "file_extension": ".py",
   "mimetype": "text/x-python",
   "name": "python",
   "nbconvert_exporter": "python",
   "pygments_lexer": "ipython3",
   "version": "3.9.13"
  }
 },
 "nbformat": 4,
 "nbformat_minor": 4
}
