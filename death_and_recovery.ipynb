{
 "cells": [
  {
   "cell_type": "code",
   "execution_count": null,
   "metadata": {},
   "outputs": [],
   "source": [
    "import pandas as pd\n",
    "import warnings\n",
    "warnings.filterwarnings(\"ignore\")\n",
    "\n",
    "#Task1\n",
    "#Loading the data\n",
    "def read_data_from_csv():\n",
    "    #df =read the 'death_and_recovery' file\n",
    "    df = pd.read_csv('./Uncleaned_dataset/death_and_recovery.csv')\n",
    "    return df\n",
    "\n",
    "\n",
    "def data_cleaning():\n",
    "    # DO NOT REMOVE FOLLOWING LINE\n",
    "    # call remove_unwanted_columns() function to get dataframe\n",
    "    data = read_data_from_csv()\n",
    "\n",
    "    # Remove Unwanted columns(comorbidity,State_code)\n",
    "\n",
    "    # only these columns are allowed in the dataset\n",
    "    #(Age,Gender,Patient_status,City,State)\n",
    "    data = data.drop(['comorbidity','State_code'], axis=1)\n",
    "\n",
    "    # export cleaned Dataset to newcsv file named \"follows_cleaned.csv\"\n",
    "    data.to_csv('follows_cleaned.csv')\n",
    "    return data\n",
    "\n",
    "#Do not Delete the Following function\n",
    "def task_runner():\n",
    "    data_cleaning()\n",
    "\n",
    "task_runner()"
   ]
  }
 ],
 "metadata": {
  "anaconda-cloud": {},
  "kernelspec": {
   "display_name": "Python 3 (ipykernel)",
   "language": "python",
   "name": "python3"
  },
  "language_info": {
   "codemirror_mode": {
    "name": "ipython",
    "version": 3
   },
   "file_extension": ".py",
   "mimetype": "text/x-python",
   "name": "python",
   "nbconvert_exporter": "python",
   "pygments_lexer": "ipython3",
   "version": "3.9.13"
  }
 },
 "nbformat": 4,
 "nbformat_minor": 4
}
